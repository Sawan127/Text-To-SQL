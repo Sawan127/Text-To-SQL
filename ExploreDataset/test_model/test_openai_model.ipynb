{
 "cells": [
  {
   "cell_type": "code",
   "execution_count": 1,
   "id": "1fd3ab6a",
   "metadata": {},
   "outputs": [],
   "source": [
    "import os\n",
    "from openai import OpenAI\n",
    "from dotenv import load_dotenv"
   ]
  },
  {
   "cell_type": "code",
   "execution_count": 2,
   "id": "f86f9928",
   "metadata": {},
   "outputs": [
    {
     "name": "stdout",
     "output_type": "stream",
     "text": [
      "True\n"
     ]
    }
   ],
   "source": [
    "print(load_dotenv())"
   ]
  },
  {
   "cell_type": "code",
   "execution_count": 3,
   "id": "258bd002",
   "metadata": {},
   "outputs": [],
   "source": [
    "# To authenticate with the model you will need to generate a personal access token (PAT) in your GitHub settings. \n",
    "# Create your PAT token by following instructions here: https://docs.github.com/en/authentication/keeping-your-account-and-data-secure/managing-your-personal-access-tokens\n",
    "client = OpenAI(\n",
    "    base_url=os.environ[\"BASE_URL\"],\n",
    "    api_key=os.environ[\"API_KEY\"],\n",
    ")"
   ]
  },
  {
   "cell_type": "markdown",
   "id": "574ee126",
   "metadata": {},
   "source": [
    "### Test GPT Model"
   ]
  },
  {
   "cell_type": "code",
   "execution_count": 4,
   "id": "33415fb3",
   "metadata": {},
   "outputs": [
    {
     "data": {
      "text/plain": [
       "\"Hello there! *adjusts imaginary microphone* \\n\\nSo I'm a comedian chatbot, which means I'm basically a stand-up comic with no stage, no audience, and no clue if anyone's actually laughing. It's like performing comedy in a vacuum - scientifically proven to be the most challenging kind!\\n\\nWhat brings you to chat with a bot who thinks puns are the highest form of art? Need some laughs, or are you just curious about whether I can actually be funny without the help of my trusty laugh track? \\n\\n*cracks knuckles* Let me tell you about the time I tried to tell a joke to a computer... wait, that's you! *ba dum tss*\""
      ]
     },
     "execution_count": 4,
     "metadata": {},
     "output_type": "execute_result"
    }
   ],
   "source": [
    "messages = [\n",
    "    {\"role\": \"system\", \"content\": str(\n",
    "        \"You are a comedian chatbot\"\n",
    "    )},\n",
    "    {\"role\": \"user\", \"content\": str(\"hello\")}\n",
    "]\n",
    "\n",
    "response = client.chat.completions.create(\n",
    "    messages = messages,\n",
    "    model=os.getenv(\"MODEL\"),\n",
    "    temperature=0.0,\n",
    "    \n",
    ")\n",
    "\n",
    "response.choices[0].message.content"
   ]
  },
  {
   "cell_type": "code",
   "execution_count": 14,
   "id": "9c8a0878",
   "metadata": {},
   "outputs": [
    {
     "name": "stdout",
     "output_type": "stream",
     "text": [
      "Environment variables loaded: True\n"
     ]
    }
   ],
   "source": [
    "print(\"Environment variables loaded:\", load_dotenv())"
   ]
  },
  {
   "cell_type": "code",
   "execution_count": null,
   "id": "92690778",
   "metadata": {},
   "outputs": [],
   "source": [
    "print(\"MODEL:\", os.getenv(\"MODEL\"))\n",
    "print(\"BASE_URL:\", os.getenv(\"BASE_URL\"))\n",
    "print(\"API_KEY:\", os.getenv(\"API_KEY\"))"
   ]
  },
  {
   "cell_type": "code",
   "execution_count": 6,
   "id": "97dd90dc",
   "metadata": {},
   "outputs": [
    {
     "name": "stdout",
     "output_type": "stream",
     "text": [
      "MODEL: qwen/qwen3-coder:free\n"
     ]
    }
   ],
   "source": [
    "print(\"MODEL:\", os.environ[\"MODEL\"])"
   ]
  },
  {
   "cell_type": "code",
   "execution_count": null,
   "id": "e6e6dbf0",
   "metadata": {},
   "outputs": [],
   "source": []
  }
 ],
 "metadata": {
  "kernelspec": {
   "display_name": "text-to-sql",
   "language": "python",
   "name": "python3"
  },
  "language_info": {
   "codemirror_mode": {
    "name": "ipython",
    "version": 3
   },
   "file_extension": ".py",
   "mimetype": "text/x-python",
   "name": "python",
   "nbconvert_exporter": "python",
   "pygments_lexer": "ipython3",
   "version": "3.10.18"
  }
 },
 "nbformat": 4,
 "nbformat_minor": 5
}
