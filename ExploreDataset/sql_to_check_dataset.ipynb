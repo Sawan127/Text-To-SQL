{
 "cells": [
  {
   "cell_type": "code",
   "execution_count": 13,
   "id": "894c7f80",
   "metadata": {},
   "outputs": [],
   "source": [
    "from pyprojroot import here\n",
    "import sys\n",
    "import os"
   ]
  },
  {
   "cell_type": "code",
   "execution_count": 14,
   "id": "2bc5095d",
   "metadata": {},
   "outputs": [
    {
     "name": "stdout",
     "output_type": "stream",
     "text": [
      "Project root: d:\\Projects\\Assignment\\Text-To-SQL\n"
     ]
    }
   ],
   "source": [
    "# Get the project root\n",
    "project_root = here()\n",
    "print(f\"Project root: {project_root}\")"
   ]
  },
  {
   "cell_type": "code",
   "execution_count": 15,
   "id": "87bc63e0",
   "metadata": {},
   "outputs": [],
   "source": [
    "# Add to path\n",
    "if str(project_root) not in sys.path:\n",
    "    sys.path.insert(0, str(project_root))"
   ]
  },
  {
   "cell_type": "code",
   "execution_count": 17,
   "id": "59a60cee",
   "metadata": {},
   "outputs": [
    {
     "name": "stdout",
     "output_type": "stream",
     "text": [
      "Utils directory exists: True\n"
     ]
    }
   ],
   "source": [
    "# Check if utils directory exists\n",
    "utils_path = project_root / \"src/utils\"\n",
    "print(f\"Utils directory exists: {utils_path.exists()}\")\n"
   ]
  },
  {
   "cell_type": "code",
   "execution_count": 18,
   "id": "e27b3c2c",
   "metadata": {},
   "outputs": [
    {
     "name": "stdout",
     "output_type": "stream",
     "text": [
      "Contents of project root: [WindowsPath('d:/Projects/Assignment/Text-To-SQL/.env'), WindowsPath('d:/Projects/Assignment/Text-To-SQL/.git'), WindowsPath('d:/Projects/Assignment/Text-To-SQL/.gitignore'), WindowsPath('d:/Projects/Assignment/Text-To-SQL/.python-version'), WindowsPath('d:/Projects/Assignment/Text-To-SQL/.venv'), WindowsPath('d:/Projects/Assignment/Text-To-SQL/configs'), WindowsPath('d:/Projects/Assignment/Text-To-SQL/data'), WindowsPath('d:/Projects/Assignment/Text-To-SQL/Dataset'), WindowsPath('d:/Projects/Assignment/Text-To-SQL/ExploreDataset'), WindowsPath('d:/Projects/Assignment/Text-To-SQL/images'), WindowsPath('d:/Projects/Assignment/Text-To-SQL/main.py'), WindowsPath('d:/Projects/Assignment/Text-To-SQL/pyproject.toml'), WindowsPath('d:/Projects/Assignment/Text-To-SQL/README.md'), WindowsPath('d:/Projects/Assignment/Text-To-SQL/requirements.txt'), WindowsPath('d:/Projects/Assignment/Text-To-SQL/src'), WindowsPath('d:/Projects/Assignment/Text-To-SQL/uv.lock')]\n"
     ]
    }
   ],
   "source": [
    "# List contents of project root\n",
    "print(f\"Contents of project root: {list(project_root.iterdir())}\")\n"
   ]
  },
  {
   "cell_type": "code",
   "execution_count": 19,
   "id": "2fd970a3",
   "metadata": {},
   "outputs": [
    {
     "name": "stdout",
     "output_type": "stream",
     "text": [
      "Contents of utils directory: [WindowsPath('d:/Projects/Assignment/Text-To-SQL/src/utils/chatbot.py'), WindowsPath('d:/Projects/Assignment/Text-To-SQL/src/utils/load_config.py'), WindowsPath('d:/Projects/Assignment/Text-To-SQL/src/utils/prepare_sqlitedb_from_csv_xlxs.py'), WindowsPath('d:/Projects/Assignment/Text-To-SQL/src/utils/ui_settings.py'), WindowsPath('d:/Projects/Assignment/Text-To-SQL/src/utils/upload_file.py'), WindowsPath('d:/Projects/Assignment/Text-To-SQL/src/utils/__pycache__')]\n"
     ]
    }
   ],
   "source": [
    "# If utils exists, list its contents\n",
    "if utils_path.exists():\n",
    "    print(f\"Contents of utils directory: {list(utils_path.iterdir())}\")"
   ]
  },
  {
   "cell_type": "code",
   "execution_count": 20,
   "id": "710b1ea4",
   "metadata": {},
   "outputs": [],
   "source": [
    "import sqlite3"
   ]
  },
  {
   "cell_type": "code",
   "execution_count": 21,
   "id": "76efc340",
   "metadata": {},
   "outputs": [],
   "source": [
    "from src.utils.load_config import LoadConfig\n"
   ]
  },
  {
   "cell_type": "code",
   "execution_count": 22,
   "id": "b5a5586c",
   "metadata": {},
   "outputs": [],
   "source": [
    "APPCFG = LoadConfig()\n",
    "db_path = APPCFG.stored_csv_xlsx_sqldb_directory"
   ]
  },
  {
   "cell_type": "code",
   "execution_count": 23,
   "id": "5e70ed27",
   "metadata": {},
   "outputs": [],
   "source": [
    "# Connect to DB in read-only mode\n",
    "conn = sqlite3.connect(f\"file:{db_path}?mode=ro\", uri=True)\n",
    "cursor = conn.cursor()\n"
   ]
  },
  {
   "cell_type": "code",
   "execution_count": 24,
   "id": "6189c301",
   "metadata": {},
   "outputs": [],
   "source": [
    "# 1️⃣ Check column counts match CSVs\n",
    "cursor.execute(\"PRAGMA table_info(buyer_order);\")\n",
    "buyer_order_columns = cursor.fetchall()"
   ]
  },
  {
   "cell_type": "code",
   "execution_count": 25,
   "id": "0cd11efc",
   "metadata": {},
   "outputs": [],
   "source": [
    "cursor.execute(\"PRAGMA table_info(current_stock);\")\n",
    "current_stock_columns = cursor.fetchall()"
   ]
  },
  {
   "cell_type": "code",
   "execution_count": 26,
   "id": "aa5f2889",
   "metadata": {},
   "outputs": [
    {
     "name": "stdout",
     "output_type": "stream",
     "text": [
      "BuyerOrder column count: 16\n",
      "CurrentStock column count: 45\n"
     ]
    }
   ],
   "source": [
    "print(\"BuyerOrder column count:\", len(buyer_order_columns))\n",
    "print(\"CurrentStock column count:\", len(current_stock_columns))"
   ]
  },
  {
   "cell_type": "code",
   "execution_count": 27,
   "id": "0808a3a4",
   "metadata": {},
   "outputs": [
    {
     "name": "stdout",
     "output_type": "stream",
     "text": [
      "Primary Key in buyer_order: buyerorderno\n"
     ]
    }
   ],
   "source": [
    "# 2️⃣ Check primary key on buyer_order\n",
    "cursor.execute(\"PRAGMA table_info(buyer_order);\")\n",
    "for col in cursor.fetchall():\n",
    "    if col[5] == 1:  # pk flag\n",
    "        print(f\"Primary Key in buyer_order: {col[1]}\")"
   ]
  },
  {
   "cell_type": "code",
   "execution_count": 28,
   "id": "e88571c7",
   "metadata": {},
   "outputs": [
    {
     "name": "stdout",
     "output_type": "stream",
     "text": [
      "Foreign Key in current_stock: [(0, 0, 'buyer_order', 'ocnum', 'buyerorderno', 'NO ACTION', 'NO ACTION', 'NONE')]\n"
     ]
    }
   ],
   "source": [
    "# 3️⃣ Check foreign key on current_stock\n",
    "cursor.execute(\"PRAGMA foreign_key_list(current_stock);\")\n",
    "fk_info = cursor.fetchall()\n",
    "print(\"Foreign Key in current_stock:\", fk_info)"
   ]
  },
  {
   "cell_type": "code",
   "execution_count": 29,
   "id": "8073a6c6",
   "metadata": {},
   "outputs": [],
   "source": [
    "# Row counts\n",
    "cursor.execute(\"SELECT COUNT(*) FROM buyer_order;\")\n",
    "buyer_order_count = cursor.fetchone()[0]"
   ]
  },
  {
   "cell_type": "code",
   "execution_count": 30,
   "id": "d1deea90",
   "metadata": {},
   "outputs": [],
   "source": [
    "cursor.execute(\"SELECT COUNT(*) FROM current_stock;\")\n",
    "current_stock_count = cursor.fetchone()[0]\n"
   ]
  },
  {
   "cell_type": "code",
   "execution_count": 31,
   "id": "f875ae12",
   "metadata": {},
   "outputs": [
    {
     "name": "stdout",
     "output_type": "stream",
     "text": [
      "Rows in buyer_order: 34377\n",
      "Rows in current_stock: 66370\n"
     ]
    }
   ],
   "source": [
    "print(f\"Rows in buyer_order: {buyer_order_count}\")\n",
    "print(f\"Rows in current_stock: {current_stock_count}\")"
   ]
  },
  {
   "cell_type": "code",
   "execution_count": 32,
   "id": "24b05805",
   "metadata": {},
   "outputs": [
    {
     "name": "stdout",
     "output_type": "stream",
     "text": [
      "Rows in buyer_order: 34377\n",
      "Rows in current_stock: 66370\n",
      "\n",
      "Sample rows from buyer_order:\n",
      "('WFXCOMPANY/OC217.1', 'shikha buyer', 'Cancelled', 'WFX SAMPLE THREAD_2200005_2200005', 'SEW-THREAD-WFXSAMPLETHREAD', 'SEWING TRIMS', 'Trims', 'THREAD', 500.0, '2022-01-04 00:00:00', 1000000.0, 'INR', '2022-01-30', None, None, None)\n",
      "('116180.1', 'Ashhar Buyer', 'Confirmed', 'WFX SAMPLE STYLE_2200006', 'JAYDEE10001', 'WOVEN', 'Apparel', 'JEANS', 100.0, '2021-11-19 00:00:00', 10000.0, 'INR', '2021-11-19', None, None, None)\n",
      "('116181.1', 'Ashhar Buyer', 'Confirmed', 'WFX SAMPLE STYLE_2200006', 'JAYDEE10001', 'WOVEN', 'Apparel', 'JEANS', 100.0, '2021-11-19 00:00:00', 1000.0, 'INR', '2021-11-19', None, None, None)\n",
      "('116184.1', 'Ashhar Buyer', 'Cancelled', 'WFX SAMPLE STYLE_2200006', 'JAYDEE10001', 'WOVEN', 'Apparel', 'JEANS', 100.0, '2021-11-19 00:00:00', 10000.0, 'INR', '2021-11-19', None, None, None)\n",
      "('116186.1', 'Ashhar Buyer', 'Confirmed', 'WFX SAMPLE STYLE_2200006', 'JAYDEE10001', 'WOVEN', 'Apparel', 'JEANS', 100.0, '2021-11-19 00:00:00', 10000.0, 'INR', '2021-11-19', None, None, None)\n",
      "\n",
      "Sample rows from current_stock:\n",
      "('NAN', 'RM FABRIC STORE', 'Textiles/Fabric', 'FABRIC', 'COTTON', 'WFX SAMPLE FABRIC_2200001', 'FAB-COTTON-WFXSAMPLEFABRIC', 'black', '20', '18LINE', '18LINE', None, None, '0', None, 'Free', 'OK', None, 'india', None, None, None, None, None, None, None, None, None, None, None, None, None, None, None, 'F/18.19/549/ R-1001-115/ 21 Feb 2019', 'R-1001-115', 'tanpreet ', '2019-02-21 17:33:26.253', 2353, 'F/18.19/549', 'MTRS', 200.0, 0.0, 2.5, 500.0)\n",
      "('NAN', 'RM FABRIC STORE', 'Textiles/Fabric', 'FABRIC', 'COTTON', 'WFX SAMPLE FABRIC_2200001', 'FAB-COTTON-WFXSAMPLEFABRIC', 'black', '20', '0-3', '0-3', None, None, '0', None, 'Free', 'OK', None, 'india', None, None, None, None, None, None, None, None, None, None, None, None, None, None, None, 'F/18.19/549/ R-1001-115/ 21 Feb 2019', 'R-1001-115', 'tanpreet ', '2019-02-21 17:33:26.237', 2353, 'F/18.19/549', 'MTRS', 200.0, 0.0, 3.0, 600.0)\n",
      "('NAN', 'RM FABRIC STORE', 'Textiles/Fabric', 'FABRIC', 'COTTON', 'WFX SAMPLE FABRIC_2200001', 'FAB-COTTON-WFXSAMPLEFABRIC', None, None, None, None, None, None, '0', None, 'Free', 'OK', None, 'L1', None, None, None, None, None, None, None, None, None, None, None, None, None, None, None, 'C-1001-21/ 08 Apr 2024', None, None, None, 480, None, 'MTRS', 900.0, 0.0, 4.0, 3600.0)\n",
      "('WFX.ALEXON.076.10.1', 'ABC FABRIC STORE', 'Textiles/Fabric', 'FABRIC', 'COTTON', 'WFX SAMPLE FABRIC_2200001', 'FAB-COTTON-WFXSAMPLEFABRIC', None, None, None, None, None, None, '0', None, 'Reserve', 'OK', None, 'MAX', 'wf-000104-001', 'testcost sheet-new-11_220001037', 'WFX10354', 'bsr343322', None, 'user A', 'Alexon International', 'FANCYFABRIC', 'Confirmed', None, None, None, 'Alexon International', None, '2010-11-29', '4016/ R-ACHCUTSTORE-50/ 23 Nov 2010', 'R-FABSTORE-443', 'Apoorva ', '2018-08-16 16:15:11.113', 5365, None, 'MTRS', 200.0, 0.0, 1.0, 200.0)\n",
      "('105390.1', 'ACHIEVER CUT STORE', 'Textiles/Fabric', 'FABRIC', 'COTTON', 'WFX SAMPLE FABRIC_2200001', 'FAB-COTTON-WFXSAMPLEFABRIC', 'BLACK', 'BLACK01', None, None, None, None, '0', None, 'Reserve', 'OK', None, '1', 'ASM-000141-001', 'WFX SAMPLE STYLE_2200006', 'JAYDEE10001', 'Mens hoody', None, 'aditya bhatli', 'ASMARA DELHI Lands’ End, Inc', 'A one supplier', 'Confirmed', None, None, None, 'ASMARA DELHI Lands’ End, Inc', None, '2016-03-28', 'C-ACHCUTSTORE-1428/ 13 Feb 2014', None, None, None, 4187, None, 'MTRS', 1.0, 0.0, 0.0, 0.0)\n"
     ]
    }
   ],
   "source": [
    "# Row counts\n",
    "cursor.execute(\"SELECT COUNT(*) FROM buyer_order;\")\n",
    "buyer_order_count = cursor.fetchone()[0]\n",
    "\n",
    "cursor.execute(\"SELECT COUNT(*) FROM current_stock;\")\n",
    "current_stock_count = cursor.fetchone()[0]\n",
    "\n",
    "print(f\"Rows in buyer_order: {buyer_order_count}\")\n",
    "print(f\"Rows in current_stock: {current_stock_count}\")\n",
    "\n",
    "# Sample rows from buyer_order\n",
    "print(\"\\nSample rows from buyer_order:\")\n",
    "cursor.execute(\"SELECT * FROM buyer_order LIMIT 5;\")\n",
    "for row in cursor.fetchall():\n",
    "    print(row)\n",
    "\n",
    "# Sample rows from current_stock\n",
    "print(\"\\nSample rows from current_stock:\")\n",
    "cursor.execute(\"SELECT * FROM current_stock LIMIT 5;\")\n",
    "for row in cursor.fetchall():\n",
    "    print(row)\n"
   ]
  },
  {
   "cell_type": "code",
   "execution_count": 33,
   "id": "eb280630",
   "metadata": {},
   "outputs": [],
   "source": [
    "conn.close()"
   ]
  },
  {
   "cell_type": "markdown",
   "id": "3c112bb4",
   "metadata": {},
   "source": [
    "## Create READ ONLY MODE to database so that it can't be altered by user."
   ]
  },
  {
   "cell_type": "code",
   "execution_count": 35,
   "id": "895eec06",
   "metadata": {},
   "outputs": [],
   "source": [
    "import sqlite3\n",
    "conn = sqlite3.connect(\"file:../data/csv_xlsx_sqldb.db?mode=ro\", uri=True)\n",
    "cursor = conn.cursor()\n"
   ]
  },
  {
   "cell_type": "code",
   "execution_count": 36,
   "id": "204d5948",
   "metadata": {},
   "outputs": [],
   "source": [
    "## This ensures no accidental writes (INSERT/UPDATE/DELETE will fail)."
   ]
  },
  {
   "cell_type": "code",
   "execution_count": null,
   "id": "18b4dc55",
   "metadata": {},
   "outputs": [],
   "source": []
  }
 ],
 "metadata": {
  "kernelspec": {
   "display_name": "text-to-sql",
   "language": "python",
   "name": "python3"
  },
  "language_info": {
   "codemirror_mode": {
    "name": "ipython",
    "version": 3
   },
   "file_extension": ".py",
   "mimetype": "text/x-python",
   "name": "python",
   "nbconvert_exporter": "python",
   "pygments_lexer": "ipython3",
   "version": "3.10.18"
  }
 },
 "nbformat": 4,
 "nbformat_minor": 5
}
