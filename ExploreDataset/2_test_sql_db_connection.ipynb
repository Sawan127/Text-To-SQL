{
 "cells": [
  {
   "cell_type": "code",
   "execution_count": 7,
   "id": "9e8075e8",
   "metadata": {},
   "outputs": [],
   "source": [
    "from pyprojroot import here\n",
    "db_path = str(here(\"data\")) + \"/csv_xlsx_sqldb.db\""
   ]
  },
  {
   "cell_type": "code",
   "execution_count": 8,
   "id": "c6947b44",
   "metadata": {},
   "outputs": [],
   "source": [
    "from langchain_community.utilities import SQLDatabase"
   ]
  },
  {
   "cell_type": "code",
   "execution_count": 9,
   "id": "52dca05d",
   "metadata": {},
   "outputs": [],
   "source": [
    "db = SQLDatabase.from_uri(f\"sqlite:///{db_path}\")"
   ]
  },
  {
   "cell_type": "markdown",
   "id": "af480303",
   "metadata": {},
   "source": [
    "#### Inspect the SQL Database"
   ]
  },
  {
   "cell_type": "code",
   "execution_count": 5,
   "id": "7def92b9",
   "metadata": {},
   "outputs": [],
   "source": [
    "from sqlalchemy import create_engine, inspect"
   ]
  },
  {
   "cell_type": "code",
   "execution_count": 10,
   "id": "8fe03310",
   "metadata": {},
   "outputs": [],
   "source": [
    "# Create an engine that connects to the SQLite database\n",
    "engine = create_engine(f\"sqlite:///file:{db_path}?mode=ro&uri=true\")\n"
   ]
  },
  {
   "cell_type": "code",
   "execution_count": 11,
   "id": "90ab0680",
   "metadata": {},
   "outputs": [],
   "source": [
    "# Connect to the database\n",
    "connection = engine.connect()\n"
   ]
  },
  {
   "cell_type": "code",
   "execution_count": 12,
   "id": "0c0f2a08",
   "metadata": {},
   "outputs": [],
   "source": [
    "# Create an inspector object\n",
    "inspector = inspect(engine)"
   ]
  },
  {
   "cell_type": "code",
   "execution_count": 13,
   "id": "e13f5f24",
   "metadata": {},
   "outputs": [
    {
     "name": "stdout",
     "output_type": "stream",
     "text": [
      "Tables: ['buyer_order', 'current_stock']\n"
     ]
    }
   ],
   "source": [
    "# Retrieve and print all table names\n",
    "table_names = inspector.get_table_names()\n",
    "print(\"Tables:\", table_names)"
   ]
  },
  {
   "cell_type": "code",
   "execution_count": 14,
   "id": "a57706d3",
   "metadata": {},
   "outputs": [
    {
     "name": "stdout",
     "output_type": "stream",
     "text": [
      "Schemas: ['main']\n"
     ]
    }
   ],
   "source": [
    "# Print available schemas (mostly None for SQLite)\n",
    "print(\"Schemas:\", inspector.get_schema_names())"
   ]
  },
  {
   "cell_type": "code",
   "execution_count": 15,
   "id": "d5ff192d",
   "metadata": {},
   "outputs": [
    {
     "name": "stdout",
     "output_type": "stream",
     "text": [
      "\n",
      "--- Information for table: buyer_order ---\n",
      "Column: buyerorderno | Type: TEXT\n",
      "Column: buyername | Type: TEXT\n",
      "Column: buyerorderstatus | Type: TEXT\n",
      "Column: stylename | Type: TEXT\n",
      "Column: stylecode | Type: TEXT\n",
      "Column: productgroup | Type: TEXT\n",
      "Column: category | Type: TEXT\n",
      "Column: subcategory | Type: TEXT\n",
      "Column: buyerorderqty | Type: REAL\n",
      "Column: buyerorderdate | Type: TEXT\n",
      "Column: buyerordervalue | Type: REAL\n",
      "Column: currency | Type: TEXT\n",
      "Column: buyerdeliverydate | Type: TEXT\n",
      "Column: buyershippedqty | Type: REAL\n",
      "Column: buyershippedvalue | Type: REAL\n",
      "Column: buyershippedinvoiceno | Type: TEXT\n",
      "Primary Key: ['buyerorderno']\n",
      "Foreign Keys: None\n",
      "\n",
      "--- Information for table: current_stock ---\n",
      "Column: ocnum | Type: TEXT\n",
      "Column: sitename | Type: TEXT\n",
      "Column: category | Type: TEXT\n",
      "Column: productgroup | Type: TEXT\n",
      "Column: productsubcatcode | Type: TEXT\n",
      "Column: articlename | Type: TEXT\n",
      "Column: articlecode | Type: TEXT\n",
      "Column: colorname | Type: TEXT\n",
      "Column: colorcode | Type: TEXT\n",
      "Column: sizename | Type: TEXT\n",
      "Column: sizecode | Type: TEXT\n",
      "Column: shade | Type: TEXT\n",
      "Column: count | Type: TEXT\n",
      "Column: content | Type: TEXT\n",
      "Column: construction | Type: TEXT\n",
      "Column: stocktype | Type: TEXT\n",
      "Column: quality | Type: TEXT\n",
      "Column: posupplierref | Type: TEXT\n",
      "Column: locationcode | Type: TEXT\n",
      "Column: indentno | Type: TEXT\n",
      "Column: stylename | Type: TEXT\n",
      "Column: stylecode | Type: TEXT\n",
      "Column: buyerstyleref | Type: TEXT\n",
      "Column: merchandiser | Type: TEXT\n",
      "Column: manager | Type: TEXT\n",
      "Column: buyer | Type: TEXT\n",
      "Column: supplier | Type: TEXT\n",
      "Column: ocstatus | Type: TEXT\n",
      "Column: contractno | Type: TEXT\n",
      "Column: contractdate | Type: TEXT\n",
      "Column: contractamount | Type: REAL\n",
      "Column: sourcebuyer | Type: TEXT\n",
      "Column: pcddate | Type: TEXT\n",
      "Column: garmentdeliverydate | Type: TEXT\n",
      "Column: grndetails | Type: TEXT\n",
      "Column: grnno | Type: TEXT\n",
      "Column: grncreatedby | Type: TEXT\n",
      "Column: grndate | Type: TEXT\n",
      "Column: ageing | Type: INTEGER\n",
      "Column: supplierpono | Type: TEXT\n",
      "Column: uom | Type: TEXT\n",
      "Column: quantity | Type: REAL\n",
      "Column: pendingtodispatch_underqc | Type: REAL\n",
      "Column: rate | Type: REAL\n",
      "Column: value | Type: REAL\n",
      "Primary Key: []\n",
      "Foreign Key: ['ocnum'] -> buyer_order(['buyerorderno'])\n"
     ]
    }
   ],
   "source": [
    "# Loop over each table for details\n",
    "for table_name in table_names:\n",
    "    print(f\"\\n--- Information for table: {table_name} ---\")\n",
    "    \n",
    "    # Columns\n",
    "    columns = inspector.get_columns(table_name)\n",
    "    for column in columns:\n",
    "        print(f\"Column: {column['name']} | Type: {column['type']}\")\n",
    "    \n",
    "    # Primary key\n",
    "    pk_constraint = inspector.get_pk_constraint(table_name)\n",
    "    print(f\"Primary Key: {pk_constraint.get('constrained_columns', [])}\")\n",
    "    \n",
    "    # Foreign keys\n",
    "    foreign_keys = inspector.get_foreign_keys(table_name)\n",
    "    if foreign_keys:\n",
    "        for fk in foreign_keys:\n",
    "            print(f\"Foreign Key: {fk['constrained_columns']} -> {fk['referred_table']}({fk['referred_columns']})\")\n",
    "    else:\n",
    "        print(\"Foreign Keys: None\")"
   ]
  },
  {
   "cell_type": "code",
   "execution_count": 16,
   "id": "d7338da6",
   "metadata": {},
   "outputs": [],
   "source": [
    "# Close connection\n",
    "connection.close()"
   ]
  },
  {
   "cell_type": "code",
   "execution_count": null,
   "id": "af2d6d19",
   "metadata": {},
   "outputs": [],
   "source": []
  }
 ],
 "metadata": {
  "kernelspec": {
   "display_name": "text-to-sql",
   "language": "python",
   "name": "python3"
  },
  "language_info": {
   "codemirror_mode": {
    "name": "ipython",
    "version": 3
   },
   "file_extension": ".py",
   "mimetype": "text/x-python",
   "name": "python",
   "nbconvert_exporter": "python",
   "pygments_lexer": "ipython3",
   "version": "3.10.18"
  }
 },
 "nbformat": 4,
 "nbformat_minor": 5
}
