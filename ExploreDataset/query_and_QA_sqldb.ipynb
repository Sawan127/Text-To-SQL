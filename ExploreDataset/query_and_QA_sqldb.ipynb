{
 "cells": [
  {
   "cell_type": "markdown",
   "id": "d7ded630",
   "metadata": {},
   "source": [
    "### Test the db"
   ]
  },
  {
   "cell_type": "code",
   "execution_count": 1,
   "id": "35246db7",
   "metadata": {},
   "outputs": [],
   "source": [
    "from langchain_community.utilities import SQLDatabase\n",
    "from pyprojroot import here\n",
    "import warnings\n",
    "warnings.filterwarnings(\"ignore\")"
   ]
  },
  {
   "cell_type": "markdown",
   "id": "499cfcd1",
   "metadata": {},
   "source": [
    "#### Connecting to the SQL DB"
   ]
  },
  {
   "cell_type": "code",
   "execution_count": 2,
   "id": "efc8b9ca",
   "metadata": {},
   "outputs": [],
   "source": [
    "db_path = str(here(\"data\")) + \"/csv_xlsx_sqldb.db\"\n",
    "db = SQLDatabase.from_uri(f\"sqlite:///{db_path}\")"
   ]
  },
  {
   "cell_type": "code",
   "execution_count": 3,
   "id": "b0c63fb4",
   "metadata": {},
   "outputs": [
    {
     "data": {
      "text/plain": [
       "<langchain_community.utilities.sql_database.SQLDatabase at 0x1f93800ec50>"
      ]
     },
     "execution_count": 3,
     "metadata": {},
     "output_type": "execute_result"
    }
   ],
   "source": [
    "db"
   ]
  },
  {
   "cell_type": "code",
   "execution_count": 4,
   "id": "9195495b",
   "metadata": {},
   "outputs": [
    {
     "name": "stdout",
     "output_type": "stream",
     "text": [
      "sqlite\n",
      "['buyer_order', 'current_stock']\n"
     ]
    },
    {
     "data": {
      "text/plain": [
       "\"[('WFXCOMPANY/OC217.1', 'shikha buyer', 'Cancelled', 'WFX SAMPLE THREAD_2200005_2200005', 'SEW-THREAD-WFXSAMPLETHREAD', 'SEWING TRIMS', 'Trims', 'THREAD', 500.0, '2022-01-04 00:00:00', 1000000.0, 'INR', '2022-01-30', None, None, None), ('116180.1', 'Ashhar Buyer', 'Confirmed', 'WFX SAMPLE STYLE_2200006', 'JAYDEE10001', 'WOVEN', 'Apparel', 'JEANS', 100.0, '2021-11-19 00:00:00', 10000.0, 'INR', '2021-11-19', None, None, None), ('116181.1', 'Ashhar Buyer', 'Confirmed', 'WFX SAMPLE STYLE_2200006', 'JAYDEE10001', 'WOVEN', 'Apparel', 'JEANS', 100.0, '2021-11-19 00:00:00', 1000.0, 'INR', '2021-11-19', None, None, None), ('116184.1', 'Ashhar Buyer', 'Cancelled', 'WFX SAMPLE STYLE_2200006', 'JAYDEE10001', 'WOVEN', 'Apparel', 'JEANS', 100.0, '2021-11-19 00:00:00', 10000.0, 'INR', '2021-11-19', None, None, None), ('116186.1', 'Ashhar Buyer', 'Confirmed', 'WFX SAMPLE STYLE_2200006', 'JAYDEE10001', 'WOVEN', 'Apparel', 'JEANS', 100.0, '2021-11-19 00:00:00', 10000.0, 'INR', '2021-11-19', None, None, None), ('116190.1', 'Ashhar Buyer', 'Confirmed', 'WFX SAMPLE STYLE_2200006', 'JAYDEE10001', 'WOVEN', 'Apparel', 'JEANS', 100.0, '2021-11-19 00:00:00', 10000.0, 'INR', '2021-11-19', None, None, None), ('116191.1', 'Ashhar Buyer', 'Closed', 'WFX SAMPLE STYLE_2200006', 'JAYDEE10001', 'WOVEN', 'Apparel', 'JEANS', 100.0, '2021-11-19 00:00:00', 10000.0, 'INR', '2021-11-19', None, None, None), ('112349.1', 'WFXUSD1', 'Confirmed', 'WFX SAMPLE STYLE_2200006', 'JAYDEE10001', 'WOVEN', 'Apparel', 'JEANS', 90.0, '2020-02-12 11:12:00', 945.0, 'INR', '2020-02-12', None, None, None), ('AONEBUYER/NEWOC/30.1', 'PB', 'Confirmed', 'WFX SAMPLE STYLE_2200006', 'JAYDEE10001', 'WOVEN', 'Apparel', 'JEANS', 100.0, '2023-09-11 00:00:00', 109.0, 'USD', '2023-09-11', None, None, None), ('AONEBUYER/NEWOC/31.1', 'PB', 'Confirmed', 'WFX SAMPLE STYLE_2200006', 'JAYDEE10001', 'WOVEN', 'Apparel', 'JEANS', 100.0, '2023-09-11 00:00:00', 120.86, 'USD', '2023-09-11', None, None, None)]\""
      ]
     },
     "execution_count": 4,
     "metadata": {},
     "output_type": "execute_result"
    }
   ],
   "source": [
    "# validate the connection to the vectordb\n",
    "print(db.dialect)\n",
    "print(db.get_usable_table_names())\n",
    "db.run(\"SELECT * FROM buyer_order LIMIT 10;\")"
   ]
  },
  {
   "cell_type": "markdown",
   "id": "9abc0ba5",
   "metadata": {},
   "source": [
    "### Test the access to environment variable"
   ]
  },
  {
   "cell_type": "code",
   "execution_count": 5,
   "id": "ee5219a1",
   "metadata": {},
   "outputs": [
    {
     "name": "stdout",
     "output_type": "stream",
     "text": [
      "Environment variables are loaded: True\n",
      "test by reading a variable: gemini-2.5-flash\n"
     ]
    }
   ],
   "source": [
    "from dotenv import load_dotenv\n",
    "import os\n",
    "print(\"Environment variables are loaded:\", load_dotenv())\n",
    "print(\"test by reading a variable:\", os.getenv(\"OPENAI_API_TYPE\"))"
   ]
  },
  {
   "cell_type": "markdown",
   "id": "0086cc6c",
   "metadata": {},
   "source": [
    "### Test the GPT MODEL"
   ]
  },
  {
   "cell_type": "code",
   "execution_count": 6,
   "id": "23bb78d7",
   "metadata": {},
   "outputs": [],
   "source": [
    "from openai import OpenAI"
   ]
  },
  {
   "cell_type": "code",
   "execution_count": 7,
   "id": "d71a669a",
   "metadata": {},
   "outputs": [],
   "source": [
    "messages = [\n",
    "    {\"role\": \"system\", \"content\": str(\n",
    "        \"You are a helpful assistant\"\n",
    "    )},\n",
    "    {\"role\": \"user\", \"content\": str(\"hello\")}\n",
    "]"
   ]
  },
  {
   "cell_type": "code",
   "execution_count": 8,
   "id": "fe0ba865",
   "metadata": {},
   "outputs": [],
   "source": [
    "client = OpenAI(\n",
    "    base_url=os.environ[\"BASE_URL\"],\n",
    "    api_key=os.environ[\"API_KEY\"]\n",
    ")"
   ]
  },
  {
   "cell_type": "code",
   "execution_count": 9,
   "id": "f0aea1bc",
   "metadata": {},
   "outputs": [],
   "source": [
    "response = client.chat.completions.create(\n",
    "    messages = messages,\n",
    "    model=os.getenv(\"MODEL\"),\n",
    "    temperature=0.0,\n",
    "    \n",
    ")"
   ]
  },
  {
   "cell_type": "code",
   "execution_count": 10,
   "id": "789a7b62",
   "metadata": {},
   "outputs": [
    {
     "name": "stdout",
     "output_type": "stream",
     "text": [
      "Hello! How can I help you today?\n"
     ]
    }
   ],
   "source": [
    "print(response.choices[0].message.content)"
   ]
  },
  {
   "cell_type": "markdown",
   "id": "bcfd9931",
   "metadata": {},
   "source": [
    "### 1. SQL Query Chain"
   ]
  },
  {
   "cell_type": "code",
   "execution_count": 11,
   "id": "c7dec828",
   "metadata": {},
   "outputs": [],
   "source": [
    "## Load the LLM\n",
    "\n",
    "from langchain_openai import ChatOpenAI"
   ]
  },
  {
   "cell_type": "code",
   "execution_count": 12,
   "id": "e97443de",
   "metadata": {},
   "outputs": [],
   "source": [
    "model_name = os.getenv(\"MODEL\")\n",
    "base_url=os.environ[\"BASE_URL\"]\n",
    "api_key=os.environ[\"API_KEY\"]\n",
    "\n",
    "llm = ChatOpenAI(\n",
    "    model_name=model_name,\n",
    "    openai_api_key=api_key,\n",
    "    openai_api_base = base_url,\n",
    "    temperature=0.0)"
   ]
  },
  {
   "cell_type": "code",
   "execution_count": 13,
   "id": "70a28778",
   "metadata": {},
   "outputs": [
    {
     "name": "stdout",
     "output_type": "stream",
     "text": [
      "SQLQuery: SELECT\n",
      "  T1.buyername,\n",
      "  COUNT(T1.buyerorderno) AS NumberOfOrders\n",
      "FROM buyer_order AS T1\n",
      "WHERE\n",
      "  STRFTIME('%Y', T1.buyerorderdate) = STRFTIME('%Y', 'now')\n",
      "GROUP BY\n",
      "  T1.buyername\n",
      "ORDER BY\n",
      "  NumberOfOrders DESC\n",
      "LIMIT 5;\n"
     ]
    }
   ],
   "source": [
    "from langchain.chains import create_sql_query_chain\n",
    "\n",
    "chain = create_sql_query_chain(llm, db)\n",
    "response = chain.invoke({\"question\": \"Identify the buyers with the most orders placed this year.\"})\n",
    "print(response)"
   ]
  },
  {
   "cell_type": "markdown",
   "id": "0734c6f2",
   "metadata": {},
   "source": [
    "### Execute the query to make sure it's valid"
   ]
  },
  {
   "cell_type": "code",
   "execution_count": 14,
   "id": "f98cf0df",
   "metadata": {},
   "outputs": [
    {
     "ename": "OperationalError",
     "evalue": "(sqlite3.OperationalError) near \"SQLQuery\": syntax error\n[SQL: SQLQuery: SELECT\n  T1.buyername,\n  COUNT(T1.buyerorderno) AS NumberOfOrders\nFROM buyer_order AS T1\nWHERE\n  STRFTIME('%Y', T1.buyerorderdate) = STRFTIME('%Y', 'now')\nGROUP BY\n  T1.buyername\nORDER BY\n  NumberOfOrders DESC\nLIMIT 5;]\n(Background on this error at: https://sqlalche.me/e/20/e3q8)",
     "output_type": "error",
     "traceback": [
      "\u001b[1;31m---------------------------------------------------------------------------\u001b[0m",
      "\u001b[1;31mOperationalError\u001b[0m                          Traceback (most recent call last)",
      "File \u001b[1;32md:\\Projects\\Assignment\\Text-To-SQL\\.venv\\lib\\site-packages\\sqlalchemy\\engine\\base.py:1961\u001b[0m, in \u001b[0;36mConnection._exec_single_context\u001b[1;34m(self, dialect, context, statement, parameters)\u001b[0m\n\u001b[0;32m   1960\u001b[0m     \u001b[38;5;28;01mif\u001b[39;00m \u001b[38;5;129;01mnot\u001b[39;00m evt_handled:\n\u001b[1;32m-> 1961\u001b[0m         \u001b[38;5;28;43mself\u001b[39;49m\u001b[38;5;241;43m.\u001b[39;49m\u001b[43mdialect\u001b[49m\u001b[38;5;241;43m.\u001b[39;49m\u001b[43mdo_execute\u001b[49m\u001b[43m(\u001b[49m\n\u001b[0;32m   1962\u001b[0m \u001b[43m            \u001b[49m\u001b[43mcursor\u001b[49m\u001b[43m,\u001b[49m\u001b[43m \u001b[49m\u001b[43mstr_statement\u001b[49m\u001b[43m,\u001b[49m\u001b[43m \u001b[49m\u001b[43meffective_parameters\u001b[49m\u001b[43m,\u001b[49m\u001b[43m \u001b[49m\u001b[43mcontext\u001b[49m\n\u001b[0;32m   1963\u001b[0m \u001b[43m        \u001b[49m\u001b[43m)\u001b[49m\n\u001b[0;32m   1965\u001b[0m \u001b[38;5;28;01mif\u001b[39;00m \u001b[38;5;28mself\u001b[39m\u001b[38;5;241m.\u001b[39m_has_events \u001b[38;5;129;01mor\u001b[39;00m \u001b[38;5;28mself\u001b[39m\u001b[38;5;241m.\u001b[39mengine\u001b[38;5;241m.\u001b[39m_has_events:\n",
      "File \u001b[1;32md:\\Projects\\Assignment\\Text-To-SQL\\.venv\\lib\\site-packages\\sqlalchemy\\engine\\default.py:944\u001b[0m, in \u001b[0;36mDefaultDialect.do_execute\u001b[1;34m(self, cursor, statement, parameters, context)\u001b[0m\n\u001b[0;32m    943\u001b[0m \u001b[38;5;28;01mdef\u001b[39;00m\u001b[38;5;250m \u001b[39m\u001b[38;5;21mdo_execute\u001b[39m(\u001b[38;5;28mself\u001b[39m, cursor, statement, parameters, context\u001b[38;5;241m=\u001b[39m\u001b[38;5;28;01mNone\u001b[39;00m):\n\u001b[1;32m--> 944\u001b[0m     \u001b[43mcursor\u001b[49m\u001b[38;5;241;43m.\u001b[39;49m\u001b[43mexecute\u001b[49m\u001b[43m(\u001b[49m\u001b[43mstatement\u001b[49m\u001b[43m,\u001b[49m\u001b[43m \u001b[49m\u001b[43mparameters\u001b[49m\u001b[43m)\u001b[49m\n",
      "\u001b[1;31mOperationalError\u001b[0m: near \"SQLQuery\": syntax error",
      "\nThe above exception was the direct cause of the following exception:\n",
      "\u001b[1;31mOperationalError\u001b[0m                          Traceback (most recent call last)",
      "Cell \u001b[1;32mIn[14], line 1\u001b[0m\n\u001b[1;32m----> 1\u001b[0m \u001b[43mdb\u001b[49m\u001b[38;5;241;43m.\u001b[39;49m\u001b[43mrun\u001b[49m\u001b[43m(\u001b[49m\u001b[43mresponse\u001b[49m\u001b[43m)\u001b[49m\n",
      "File \u001b[1;32md:\\Projects\\Assignment\\Text-To-SQL\\.venv\\lib\\site-packages\\langchain_community\\utilities\\sql_database.py:553\u001b[0m, in \u001b[0;36mSQLDatabase.run\u001b[1;34m(self, command, fetch, include_columns, parameters, execution_options)\u001b[0m\n\u001b[0;32m    539\u001b[0m \u001b[38;5;28;01mdef\u001b[39;00m\u001b[38;5;250m \u001b[39m\u001b[38;5;21mrun\u001b[39m(\n\u001b[0;32m    540\u001b[0m     \u001b[38;5;28mself\u001b[39m,\n\u001b[0;32m    541\u001b[0m     command: Union[\u001b[38;5;28mstr\u001b[39m, Executable],\n\u001b[1;32m   (...)\u001b[0m\n\u001b[0;32m    546\u001b[0m     execution_options: Optional[Dict[\u001b[38;5;28mstr\u001b[39m, Any]] \u001b[38;5;241m=\u001b[39m \u001b[38;5;28;01mNone\u001b[39;00m,\n\u001b[0;32m    547\u001b[0m ) \u001b[38;5;241m-\u001b[39m\u001b[38;5;241m>\u001b[39m Union[\u001b[38;5;28mstr\u001b[39m, Sequence[Dict[\u001b[38;5;28mstr\u001b[39m, Any]], Result[Any]]:\n\u001b[0;32m    548\u001b[0m \u001b[38;5;250m    \u001b[39m\u001b[38;5;124;03m\"\"\"Execute a SQL command and return a string representing the results.\u001b[39;00m\n\u001b[0;32m    549\u001b[0m \n\u001b[0;32m    550\u001b[0m \u001b[38;5;124;03m    If the statement returns rows, a string of the results is returned.\u001b[39;00m\n\u001b[0;32m    551\u001b[0m \u001b[38;5;124;03m    If the statement returns no rows, an empty string is returned.\u001b[39;00m\n\u001b[0;32m    552\u001b[0m \u001b[38;5;124;03m    \"\"\"\u001b[39;00m\n\u001b[1;32m--> 553\u001b[0m     result \u001b[38;5;241m=\u001b[39m \u001b[38;5;28;43mself\u001b[39;49m\u001b[38;5;241;43m.\u001b[39;49m\u001b[43m_execute\u001b[49m\u001b[43m(\u001b[49m\n\u001b[0;32m    554\u001b[0m \u001b[43m        \u001b[49m\u001b[43mcommand\u001b[49m\u001b[43m,\u001b[49m\u001b[43m \u001b[49m\u001b[43mfetch\u001b[49m\u001b[43m,\u001b[49m\u001b[43m \u001b[49m\u001b[43mparameters\u001b[49m\u001b[38;5;241;43m=\u001b[39;49m\u001b[43mparameters\u001b[49m\u001b[43m,\u001b[49m\u001b[43m \u001b[49m\u001b[43mexecution_options\u001b[49m\u001b[38;5;241;43m=\u001b[39;49m\u001b[43mexecution_options\u001b[49m\n\u001b[0;32m    555\u001b[0m \u001b[43m    \u001b[49m\u001b[43m)\u001b[49m\n\u001b[0;32m    557\u001b[0m     \u001b[38;5;28;01mif\u001b[39;00m fetch \u001b[38;5;241m==\u001b[39m \u001b[38;5;124m\"\u001b[39m\u001b[38;5;124mcursor\u001b[39m\u001b[38;5;124m\"\u001b[39m:\n\u001b[0;32m    558\u001b[0m         \u001b[38;5;28;01mreturn\u001b[39;00m result\n",
      "File \u001b[1;32md:\\Projects\\Assignment\\Text-To-SQL\\.venv\\lib\\site-packages\\langchain_community\\utilities\\sql_database.py:518\u001b[0m, in \u001b[0;36mSQLDatabase._execute\u001b[1;34m(self, command, fetch, parameters, execution_options)\u001b[0m\n\u001b[0;32m    516\u001b[0m \u001b[38;5;28;01melse\u001b[39;00m:\n\u001b[0;32m    517\u001b[0m     \u001b[38;5;28;01mraise\u001b[39;00m \u001b[38;5;167;01mTypeError\u001b[39;00m(\u001b[38;5;124mf\u001b[39m\u001b[38;5;124m\"\u001b[39m\u001b[38;5;124mQuery expression has unknown type: \u001b[39m\u001b[38;5;132;01m{\u001b[39;00m\u001b[38;5;28mtype\u001b[39m(command)\u001b[38;5;132;01m}\u001b[39;00m\u001b[38;5;124m\"\u001b[39m)\n\u001b[1;32m--> 518\u001b[0m cursor \u001b[38;5;241m=\u001b[39m \u001b[43mconnection\u001b[49m\u001b[38;5;241;43m.\u001b[39;49m\u001b[43mexecute\u001b[49m\u001b[43m(\u001b[49m\n\u001b[0;32m    519\u001b[0m \u001b[43m    \u001b[49m\u001b[43mcommand\u001b[49m\u001b[43m,\u001b[49m\n\u001b[0;32m    520\u001b[0m \u001b[43m    \u001b[49m\u001b[43mparameters\u001b[49m\u001b[43m,\u001b[49m\n\u001b[0;32m    521\u001b[0m \u001b[43m    \u001b[49m\u001b[43mexecution_options\u001b[49m\u001b[38;5;241;43m=\u001b[39;49m\u001b[43mexecution_options\u001b[49m\u001b[43m,\u001b[49m\n\u001b[0;32m    522\u001b[0m \u001b[43m\u001b[49m\u001b[43m)\u001b[49m\n\u001b[0;32m    524\u001b[0m \u001b[38;5;28;01mif\u001b[39;00m cursor\u001b[38;5;241m.\u001b[39mreturns_rows:\n\u001b[0;32m    525\u001b[0m     \u001b[38;5;28;01mif\u001b[39;00m fetch \u001b[38;5;241m==\u001b[39m \u001b[38;5;124m\"\u001b[39m\u001b[38;5;124mall\u001b[39m\u001b[38;5;124m\"\u001b[39m:\n",
      "File \u001b[1;32md:\\Projects\\Assignment\\Text-To-SQL\\.venv\\lib\\site-packages\\sqlalchemy\\engine\\base.py:1413\u001b[0m, in \u001b[0;36mConnection.execute\u001b[1;34m(self, statement, parameters, execution_options)\u001b[0m\n\u001b[0;32m   1411\u001b[0m     \u001b[38;5;28;01mraise\u001b[39;00m exc\u001b[38;5;241m.\u001b[39mObjectNotExecutableError(statement) \u001b[38;5;28;01mfrom\u001b[39;00m\u001b[38;5;250m \u001b[39m\u001b[38;5;21;01merr\u001b[39;00m\n\u001b[0;32m   1412\u001b[0m \u001b[38;5;28;01melse\u001b[39;00m:\n\u001b[1;32m-> 1413\u001b[0m     \u001b[38;5;28;01mreturn\u001b[39;00m \u001b[43mmeth\u001b[49m\u001b[43m(\u001b[49m\n\u001b[0;32m   1414\u001b[0m \u001b[43m        \u001b[49m\u001b[38;5;28;43mself\u001b[39;49m\u001b[43m,\u001b[49m\n\u001b[0;32m   1415\u001b[0m \u001b[43m        \u001b[49m\u001b[43mdistilled_parameters\u001b[49m\u001b[43m,\u001b[49m\n\u001b[0;32m   1416\u001b[0m \u001b[43m        \u001b[49m\u001b[43mexecution_options\u001b[49m\u001b[43m \u001b[49m\u001b[38;5;129;43;01mor\u001b[39;49;00m\u001b[43m \u001b[49m\u001b[43mNO_OPTIONS\u001b[49m\u001b[43m,\u001b[49m\n\u001b[0;32m   1417\u001b[0m \u001b[43m    \u001b[49m\u001b[43m)\u001b[49m\n",
      "File \u001b[1;32md:\\Projects\\Assignment\\Text-To-SQL\\.venv\\lib\\site-packages\\sqlalchemy\\sql\\elements.py:526\u001b[0m, in \u001b[0;36mClauseElement._execute_on_connection\u001b[1;34m(self, connection, distilled_params, execution_options)\u001b[0m\n\u001b[0;32m    524\u001b[0m     \u001b[38;5;28;01mif\u001b[39;00m TYPE_CHECKING:\n\u001b[0;32m    525\u001b[0m         \u001b[38;5;28;01massert\u001b[39;00m \u001b[38;5;28misinstance\u001b[39m(\u001b[38;5;28mself\u001b[39m, Executable)\n\u001b[1;32m--> 526\u001b[0m     \u001b[38;5;28;01mreturn\u001b[39;00m \u001b[43mconnection\u001b[49m\u001b[38;5;241;43m.\u001b[39;49m\u001b[43m_execute_clauseelement\u001b[49m\u001b[43m(\u001b[49m\n\u001b[0;32m    527\u001b[0m \u001b[43m        \u001b[49m\u001b[38;5;28;43mself\u001b[39;49m\u001b[43m,\u001b[49m\u001b[43m \u001b[49m\u001b[43mdistilled_params\u001b[49m\u001b[43m,\u001b[49m\u001b[43m \u001b[49m\u001b[43mexecution_options\u001b[49m\n\u001b[0;32m    528\u001b[0m \u001b[43m    \u001b[49m\u001b[43m)\u001b[49m\n\u001b[0;32m    529\u001b[0m \u001b[38;5;28;01melse\u001b[39;00m:\n\u001b[0;32m    530\u001b[0m     \u001b[38;5;28;01mraise\u001b[39;00m exc\u001b[38;5;241m.\u001b[39mObjectNotExecutableError(\u001b[38;5;28mself\u001b[39m)\n",
      "File \u001b[1;32md:\\Projects\\Assignment\\Text-To-SQL\\.venv\\lib\\site-packages\\sqlalchemy\\engine\\base.py:1635\u001b[0m, in \u001b[0;36mConnection._execute_clauseelement\u001b[1;34m(self, elem, distilled_parameters, execution_options)\u001b[0m\n\u001b[0;32m   1623\u001b[0m compiled_cache: Optional[CompiledCacheType] \u001b[38;5;241m=\u001b[39m execution_options\u001b[38;5;241m.\u001b[39mget(\n\u001b[0;32m   1624\u001b[0m     \u001b[38;5;124m\"\u001b[39m\u001b[38;5;124mcompiled_cache\u001b[39m\u001b[38;5;124m\"\u001b[39m, \u001b[38;5;28mself\u001b[39m\u001b[38;5;241m.\u001b[39mengine\u001b[38;5;241m.\u001b[39m_compiled_cache\n\u001b[0;32m   1625\u001b[0m )\n\u001b[0;32m   1627\u001b[0m compiled_sql, extracted_params, cache_hit \u001b[38;5;241m=\u001b[39m elem\u001b[38;5;241m.\u001b[39m_compile_w_cache(\n\u001b[0;32m   1628\u001b[0m     dialect\u001b[38;5;241m=\u001b[39mdialect,\n\u001b[0;32m   1629\u001b[0m     compiled_cache\u001b[38;5;241m=\u001b[39mcompiled_cache,\n\u001b[1;32m   (...)\u001b[0m\n\u001b[0;32m   1633\u001b[0m     linting\u001b[38;5;241m=\u001b[39m\u001b[38;5;28mself\u001b[39m\u001b[38;5;241m.\u001b[39mdialect\u001b[38;5;241m.\u001b[39mcompiler_linting \u001b[38;5;241m|\u001b[39m compiler\u001b[38;5;241m.\u001b[39mWARN_LINTING,\n\u001b[0;32m   1634\u001b[0m )\n\u001b[1;32m-> 1635\u001b[0m ret \u001b[38;5;241m=\u001b[39m \u001b[38;5;28;43mself\u001b[39;49m\u001b[38;5;241;43m.\u001b[39;49m\u001b[43m_execute_context\u001b[49m\u001b[43m(\u001b[49m\n\u001b[0;32m   1636\u001b[0m \u001b[43m    \u001b[49m\u001b[43mdialect\u001b[49m\u001b[43m,\u001b[49m\n\u001b[0;32m   1637\u001b[0m \u001b[43m    \u001b[49m\u001b[43mdialect\u001b[49m\u001b[38;5;241;43m.\u001b[39;49m\u001b[43mexecution_ctx_cls\u001b[49m\u001b[38;5;241;43m.\u001b[39;49m\u001b[43m_init_compiled\u001b[49m\u001b[43m,\u001b[49m\n\u001b[0;32m   1638\u001b[0m \u001b[43m    \u001b[49m\u001b[43mcompiled_sql\u001b[49m\u001b[43m,\u001b[49m\n\u001b[0;32m   1639\u001b[0m \u001b[43m    \u001b[49m\u001b[43mdistilled_parameters\u001b[49m\u001b[43m,\u001b[49m\n\u001b[0;32m   1640\u001b[0m \u001b[43m    \u001b[49m\u001b[43mexecution_options\u001b[49m\u001b[43m,\u001b[49m\n\u001b[0;32m   1641\u001b[0m \u001b[43m    \u001b[49m\u001b[43mcompiled_sql\u001b[49m\u001b[43m,\u001b[49m\n\u001b[0;32m   1642\u001b[0m \u001b[43m    \u001b[49m\u001b[43mdistilled_parameters\u001b[49m\u001b[43m,\u001b[49m\n\u001b[0;32m   1643\u001b[0m \u001b[43m    \u001b[49m\u001b[43melem\u001b[49m\u001b[43m,\u001b[49m\n\u001b[0;32m   1644\u001b[0m \u001b[43m    \u001b[49m\u001b[43mextracted_params\u001b[49m\u001b[43m,\u001b[49m\n\u001b[0;32m   1645\u001b[0m \u001b[43m    \u001b[49m\u001b[43mcache_hit\u001b[49m\u001b[38;5;241;43m=\u001b[39;49m\u001b[43mcache_hit\u001b[49m\u001b[43m,\u001b[49m\n\u001b[0;32m   1646\u001b[0m \u001b[43m\u001b[49m\u001b[43m)\u001b[49m\n\u001b[0;32m   1647\u001b[0m \u001b[38;5;28;01mif\u001b[39;00m has_events:\n\u001b[0;32m   1648\u001b[0m     \u001b[38;5;28mself\u001b[39m\u001b[38;5;241m.\u001b[39mdispatch\u001b[38;5;241m.\u001b[39mafter_execute(\n\u001b[0;32m   1649\u001b[0m         \u001b[38;5;28mself\u001b[39m,\n\u001b[0;32m   1650\u001b[0m         elem,\n\u001b[1;32m   (...)\u001b[0m\n\u001b[0;32m   1654\u001b[0m         ret,\n\u001b[0;32m   1655\u001b[0m     )\n",
      "File \u001b[1;32md:\\Projects\\Assignment\\Text-To-SQL\\.venv\\lib\\site-packages\\sqlalchemy\\engine\\base.py:1840\u001b[0m, in \u001b[0;36mConnection._execute_context\u001b[1;34m(self, dialect, constructor, statement, parameters, execution_options, *args, **kw)\u001b[0m\n\u001b[0;32m   1838\u001b[0m     \u001b[38;5;28;01mreturn\u001b[39;00m \u001b[38;5;28mself\u001b[39m\u001b[38;5;241m.\u001b[39m_exec_insertmany_context(dialect, context)\n\u001b[0;32m   1839\u001b[0m \u001b[38;5;28;01melse\u001b[39;00m:\n\u001b[1;32m-> 1840\u001b[0m     \u001b[38;5;28;01mreturn\u001b[39;00m \u001b[38;5;28;43mself\u001b[39;49m\u001b[38;5;241;43m.\u001b[39;49m\u001b[43m_exec_single_context\u001b[49m\u001b[43m(\u001b[49m\n\u001b[0;32m   1841\u001b[0m \u001b[43m        \u001b[49m\u001b[43mdialect\u001b[49m\u001b[43m,\u001b[49m\u001b[43m \u001b[49m\u001b[43mcontext\u001b[49m\u001b[43m,\u001b[49m\u001b[43m \u001b[49m\u001b[43mstatement\u001b[49m\u001b[43m,\u001b[49m\u001b[43m \u001b[49m\u001b[43mparameters\u001b[49m\n\u001b[0;32m   1842\u001b[0m \u001b[43m    \u001b[49m\u001b[43m)\u001b[49m\n",
      "File \u001b[1;32md:\\Projects\\Assignment\\Text-To-SQL\\.venv\\lib\\site-packages\\sqlalchemy\\engine\\base.py:1980\u001b[0m, in \u001b[0;36mConnection._exec_single_context\u001b[1;34m(self, dialect, context, statement, parameters)\u001b[0m\n\u001b[0;32m   1977\u001b[0m     result \u001b[38;5;241m=\u001b[39m context\u001b[38;5;241m.\u001b[39m_setup_result_proxy()\n\u001b[0;32m   1979\u001b[0m \u001b[38;5;28;01mexcept\u001b[39;00m \u001b[38;5;167;01mBaseException\u001b[39;00m \u001b[38;5;28;01mas\u001b[39;00m e:\n\u001b[1;32m-> 1980\u001b[0m     \u001b[38;5;28;43mself\u001b[39;49m\u001b[38;5;241;43m.\u001b[39;49m\u001b[43m_handle_dbapi_exception\u001b[49m\u001b[43m(\u001b[49m\n\u001b[0;32m   1981\u001b[0m \u001b[43m        \u001b[49m\u001b[43me\u001b[49m\u001b[43m,\u001b[49m\u001b[43m \u001b[49m\u001b[43mstr_statement\u001b[49m\u001b[43m,\u001b[49m\u001b[43m \u001b[49m\u001b[43meffective_parameters\u001b[49m\u001b[43m,\u001b[49m\u001b[43m \u001b[49m\u001b[43mcursor\u001b[49m\u001b[43m,\u001b[49m\u001b[43m \u001b[49m\u001b[43mcontext\u001b[49m\n\u001b[0;32m   1982\u001b[0m \u001b[43m    \u001b[49m\u001b[43m)\u001b[49m\n\u001b[0;32m   1984\u001b[0m \u001b[38;5;28;01mreturn\u001b[39;00m result\n",
      "File \u001b[1;32md:\\Projects\\Assignment\\Text-To-SQL\\.venv\\lib\\site-packages\\sqlalchemy\\engine\\base.py:2349\u001b[0m, in \u001b[0;36mConnection._handle_dbapi_exception\u001b[1;34m(self, e, statement, parameters, cursor, context, is_sub_exec)\u001b[0m\n\u001b[0;32m   2347\u001b[0m \u001b[38;5;28;01melif\u001b[39;00m should_wrap:\n\u001b[0;32m   2348\u001b[0m     \u001b[38;5;28;01massert\u001b[39;00m sqlalchemy_exception \u001b[38;5;129;01mis\u001b[39;00m \u001b[38;5;129;01mnot\u001b[39;00m \u001b[38;5;28;01mNone\u001b[39;00m\n\u001b[1;32m-> 2349\u001b[0m     \u001b[38;5;28;01mraise\u001b[39;00m sqlalchemy_exception\u001b[38;5;241m.\u001b[39mwith_traceback(exc_info[\u001b[38;5;241m2\u001b[39m]) \u001b[38;5;28;01mfrom\u001b[39;00m\u001b[38;5;250m \u001b[39m\u001b[38;5;21;01me\u001b[39;00m\n\u001b[0;32m   2350\u001b[0m \u001b[38;5;28;01melse\u001b[39;00m:\n\u001b[0;32m   2351\u001b[0m     \u001b[38;5;28;01massert\u001b[39;00m exc_info[\u001b[38;5;241m1\u001b[39m] \u001b[38;5;129;01mis\u001b[39;00m \u001b[38;5;129;01mnot\u001b[39;00m \u001b[38;5;28;01mNone\u001b[39;00m\n",
      "File \u001b[1;32md:\\Projects\\Assignment\\Text-To-SQL\\.venv\\lib\\site-packages\\sqlalchemy\\engine\\base.py:1961\u001b[0m, in \u001b[0;36mConnection._exec_single_context\u001b[1;34m(self, dialect, context, statement, parameters)\u001b[0m\n\u001b[0;32m   1959\u001b[0m                 \u001b[38;5;28;01mbreak\u001b[39;00m\n\u001b[0;32m   1960\u001b[0m     \u001b[38;5;28;01mif\u001b[39;00m \u001b[38;5;129;01mnot\u001b[39;00m evt_handled:\n\u001b[1;32m-> 1961\u001b[0m         \u001b[38;5;28;43mself\u001b[39;49m\u001b[38;5;241;43m.\u001b[39;49m\u001b[43mdialect\u001b[49m\u001b[38;5;241;43m.\u001b[39;49m\u001b[43mdo_execute\u001b[49m\u001b[43m(\u001b[49m\n\u001b[0;32m   1962\u001b[0m \u001b[43m            \u001b[49m\u001b[43mcursor\u001b[49m\u001b[43m,\u001b[49m\u001b[43m \u001b[49m\u001b[43mstr_statement\u001b[49m\u001b[43m,\u001b[49m\u001b[43m \u001b[49m\u001b[43meffective_parameters\u001b[49m\u001b[43m,\u001b[49m\u001b[43m \u001b[49m\u001b[43mcontext\u001b[49m\n\u001b[0;32m   1963\u001b[0m \u001b[43m        \u001b[49m\u001b[43m)\u001b[49m\n\u001b[0;32m   1965\u001b[0m \u001b[38;5;28;01mif\u001b[39;00m \u001b[38;5;28mself\u001b[39m\u001b[38;5;241m.\u001b[39m_has_events \u001b[38;5;129;01mor\u001b[39;00m \u001b[38;5;28mself\u001b[39m\u001b[38;5;241m.\u001b[39mengine\u001b[38;5;241m.\u001b[39m_has_events:\n\u001b[0;32m   1966\u001b[0m     \u001b[38;5;28mself\u001b[39m\u001b[38;5;241m.\u001b[39mdispatch\u001b[38;5;241m.\u001b[39mafter_cursor_execute(\n\u001b[0;32m   1967\u001b[0m         \u001b[38;5;28mself\u001b[39m,\n\u001b[0;32m   1968\u001b[0m         cursor,\n\u001b[1;32m   (...)\u001b[0m\n\u001b[0;32m   1972\u001b[0m         context\u001b[38;5;241m.\u001b[39mexecutemany,\n\u001b[0;32m   1973\u001b[0m     )\n",
      "File \u001b[1;32md:\\Projects\\Assignment\\Text-To-SQL\\.venv\\lib\\site-packages\\sqlalchemy\\engine\\default.py:944\u001b[0m, in \u001b[0;36mDefaultDialect.do_execute\u001b[1;34m(self, cursor, statement, parameters, context)\u001b[0m\n\u001b[0;32m    943\u001b[0m \u001b[38;5;28;01mdef\u001b[39;00m\u001b[38;5;250m \u001b[39m\u001b[38;5;21mdo_execute\u001b[39m(\u001b[38;5;28mself\u001b[39m, cursor, statement, parameters, context\u001b[38;5;241m=\u001b[39m\u001b[38;5;28;01mNone\u001b[39;00m):\n\u001b[1;32m--> 944\u001b[0m     \u001b[43mcursor\u001b[49m\u001b[38;5;241;43m.\u001b[39;49m\u001b[43mexecute\u001b[49m\u001b[43m(\u001b[49m\u001b[43mstatement\u001b[49m\u001b[43m,\u001b[49m\u001b[43m \u001b[49m\u001b[43mparameters\u001b[49m\u001b[43m)\u001b[49m\n",
      "\u001b[1;31mOperationalError\u001b[0m: (sqlite3.OperationalError) near \"SQLQuery\": syntax error\n[SQL: SQLQuery: SELECT\n  T1.buyername,\n  COUNT(T1.buyerorderno) AS NumberOfOrders\nFROM buyer_order AS T1\nWHERE\n  STRFTIME('%Y', T1.buyerorderdate) = STRFTIME('%Y', 'now')\nGROUP BY\n  T1.buyername\nORDER BY\n  NumberOfOrders DESC\nLIMIT 5;]\n(Background on this error at: https://sqlalche.me/e/20/e3q8)"
     ]
    }
   ],
   "source": [
    "db.run(response)"
   ]
  },
  {
   "cell_type": "code",
   "execution_count": 15,
   "id": "621c6251",
   "metadata": {},
   "outputs": [
    {
     "name": "stdout",
     "output_type": "stream",
     "text": [
      "SELECT buyername\n",
      "FROM buyer_order\n",
      "WHERE strftime('%Y', buyerorderdate) = strftime('%Y', 'now')\n",
      "GROUP BY buyername\n",
      "ORDER BY COUNT(buyerorderno) DESC\n",
      "LIMIT 5\n"
     ]
    }
   ],
   "source": [
    "from langchain.prompts.prompt import PromptTemplate\n",
    "from langchain.chains import create_sql_query_chain\n",
    "\n",
    "sql_prompt = PromptTemplate(\n",
    "    input_variables=[\"input\", \"table_info\", \"top_k\"],\n",
    "    template=\"\"\"\n",
    "    You are a SQL expert. \n",
    "    Write only a valid SQLite SQL query as output. \n",
    "    Do not include markdown, triple backticks, or explanations.\n",
    "    \n",
    "    Tables:\n",
    "    {table_info}\n",
    "    \n",
    "    Question:\n",
    "    {input}\n",
    "    \n",
    "    Return at most {top_k} rows if applicable.\n",
    "    \n",
    "    SQL:\n",
    "    \"\"\"\n",
    ")\n",
    "\n",
    "chain = create_sql_query_chain(llm, db, prompt=sql_prompt)\n",
    "\n",
    "response = chain.invoke({\"question\": \"Identify the buyers with the most orders placed this year.\"})\n",
    "print(response)"
   ]
  },
  {
   "cell_type": "code",
   "execution_count": 16,
   "id": "4e113a11",
   "metadata": {},
   "outputs": [
    {
     "data": {
      "text/plain": [
       "\"[('MaX TP Buyer',), ('GEM BUYER',), ('PPC Buyer1',), ('Manjeet',), ('ASMARA DELHI Lands’ End, Inc',)]\""
      ]
     },
     "execution_count": 16,
     "metadata": {},
     "output_type": "execute_result"
    }
   ],
   "source": [
    "db.run(response)"
   ]
  },
  {
   "cell_type": "code",
   "execution_count": 17,
   "id": "a0042ce6",
   "metadata": {},
   "outputs": [],
   "source": [
    "from pyprojroot import here\n",
    "import sys\n",
    "import os\n",
    "project_root = here()\n",
    "if str(project_root) not in sys.path:\n",
    "    sys.path.insert(0, str(project_root))"
   ]
  },
  {
   "cell_type": "code",
   "execution_count": 18,
   "id": "9ed29823",
   "metadata": {},
   "outputs": [
    {
     "name": "stdout",
     "output_type": "stream",
     "text": [
      "Environment variables are loaded: True\n"
     ]
    }
   ],
   "source": [
    "from langchain.prompts.prompt import PromptTemplate\n",
    "from langchain.chains import create_sql_query_chain\n",
    "from src.utils.load_config import LoadConfig"
   ]
  },
  {
   "cell_type": "code",
   "execution_count": 19,
   "id": "d0cf1c4a",
   "metadata": {},
   "outputs": [],
   "source": [
    "## Updated the Yaml file for the sql prompt\n",
    "APPCFG = LoadConfig()\n",
    "\n",
    "sql_prompt = PromptTemplate(\n",
    "    input_variables=[\"input\", \"table_info\", \"top_k\"],\n",
    "    template=APPCFG.llm_config[\"sql_generation_prompt\"]\n",
    ")\n",
    "\n",
    "chain = create_sql_query_chain(llm, db, prompt=sql_prompt)"
   ]
  },
  {
   "cell_type": "code",
   "execution_count": 20,
   "id": "f1dc1902",
   "metadata": {},
   "outputs": [
    {
     "name": "stdout",
     "output_type": "stream",
     "text": [
      "SELECT\n",
      "  buyername\n",
      "FROM buyer_order\n",
      "WHERE\n",
      "  STRFTIME('%Y', buyerorderdate) = STRFTIME('%Y', 'now')\n",
      "GROUP BY\n",
      "  buyername\n",
      "ORDER BY\n",
      "  COUNT(buyerorderno) DESC\n",
      "LIMIT 5;\n"
     ]
    },
    {
     "data": {
      "text/plain": [
       "\"[('MaX TP Buyer',), ('GEM BUYER',), ('PPC Buyer1',), ('Manjeet',), ('ASMARA DELHI Lands’ End, Inc',)]\""
      ]
     },
     "execution_count": 20,
     "metadata": {},
     "output_type": "execute_result"
    }
   ],
   "source": [
    "response = chain.invoke({\"question\": \"Identify the buyers with the most orders placed this year.\"})\n",
    "print(response)\n",
    "db.run(response)\n"
   ]
  },
  {
   "cell_type": "code",
   "execution_count": 21,
   "id": "39164d44",
   "metadata": {},
   "outputs": [
    {
     "name": "stdout",
     "output_type": "stream",
     "text": [
      "You are a SQL expert.\n",
      "Write only a valid SQLite SQL query as output.\n",
      "Do not include markdown, triple backticks, or explanations.\n",
      "\n",
      "Tables:\n",
      "\u001b[33;1m\u001b[1;3m{table_info}\u001b[0m\n",
      "\n",
      "Question:\n",
      "\u001b[33;1m\u001b[1;3m{input}\u001b[0m\n",
      "\n",
      "Return at most 5 rows if applicable.\n",
      "\n",
      "SQL:\n",
      "\n"
     ]
    }
   ],
   "source": [
    "chain.get_prompts()[0].pretty_print()"
   ]
  },
  {
   "cell_type": "markdown",
   "id": "11faf34f",
   "metadata": {},
   "source": [
    "### Adding QuerySQLDataBaseTool to the Chain\n",
    "\n",
    "Execute SQL queries safely\n",
    "\n",
    "Important: Executing SQL directly is the most sensitive step in creating a SQL chain.\n",
    "\n",
    "* Carefully assess whether it’s acceptable to allow automated queries on your database.\n",
    "* Always restrict database permissions to the minimum required (prefer read-only mode).\n",
    "* For production systems, consider adding a human approval step before executing any query (see below for options).\n",
    "\n",
    "The `QuerySQLDataBaseTool` allows us to execute queries safely within a chain:"
   ]
  },
  {
   "cell_type": "code",
   "execution_count": 22,
   "id": "c8da9342",
   "metadata": {},
   "outputs": [
    {
     "name": "stderr",
     "output_type": "stream",
     "text": [
      "C:\\Users\\sawan\\AppData\\Local\\Temp\\ipykernel_18008\\588051697.py:13: LangChainDeprecationWarning: The class `QuerySQLDataBaseTool` was deprecated in LangChain 0.3.12 and will be removed in 1.0. An updated version of the class exists in the :class:`~langchain-community package and should be used instead. To use it run `pip install -U :class:`~langchain-community` and import as `from :class:`~langchain_community.tools import QuerySQLDatabaseTool``.\n",
      "  execute_query = QuerySQLDataBaseTool(db=db)\n"
     ]
    },
    {
     "name": "stdout",
     "output_type": "stream",
     "text": [
      "[('MaX TP Buyer',), ('GEM BUYER',), ('PPC Buyer1',), ('Manjeet',), ('ASMARA DELHI Lands’ End, Inc',)]\n"
     ]
    }
   ],
   "source": [
    "from langchain_community.tools.sql_database.tool import QuerySQLDataBaseTool\n",
    "from langchain.prompts.prompt import PromptTemplate\n",
    "from langchain.chains import create_sql_query_chain\n",
    "\n",
    "# Prompt from YAML (no backticks)\n",
    "sql_prompt = PromptTemplate(\n",
    "    input_variables=[\"input\", \"table_info\", \"top_k\"],\n",
    "    template=APPCFG.llm_config[\"sql_generation_prompt\"]\n",
    ")\n",
    "\n",
    "# Create SQL writer & executor\n",
    "write_query = create_sql_query_chain(llm, db, prompt=sql_prompt)\n",
    "execute_query = QuerySQLDataBaseTool(db=db)\n",
    "\n",
    "# Combine into one chain\n",
    "chain = write_query | execute_query\n",
    "\n",
    "# Test\n",
    "result = chain.invoke({\"question\": \"Identify the buyers with the most orders placed this year.\"})\n",
    "print(result)\n"
   ]
  },
  {
   "cell_type": "markdown",
   "id": "71c9695a",
   "metadata": {},
   "source": [
    "### Answer the Question in User Friendly Manner"
   ]
  },
  {
   "cell_type": "code",
   "execution_count": 23,
   "id": "604aca6e",
   "metadata": {},
   "outputs": [
    {
     "name": "stdout",
     "output_type": "stream",
     "text": [
      "The Top buyer is MaX TP Buyer.\n"
     ]
    }
   ],
   "source": [
    "from operator import itemgetter\n",
    "from langchain_core.output_parsers import StrOutputParser\n",
    "from langchain_core.prompts import PromptTemplate\n",
    "from langchain_core.runnables import RunnablePassthrough\n",
    "\n",
    "# Friendly answer prompt (from YAML for consistency)\n",
    "answer_prompt = PromptTemplate.from_template(\n",
    "    APPCFG.llm_config[\"agent_llm_system_role\"]\n",
    ")\n",
    "\n",
    "# Answer chain: Pass query + result + question into LLM\n",
    "answer_chain = answer_prompt | llm | StrOutputParser()\n",
    "\n",
    "# Full chain: Generate SQL -> Execute -> Pass to answer\n",
    "chain = (\n",
    "    RunnablePassthrough.assign(query=write_query)\n",
    "    .assign(result=itemgetter(\"query\") | execute_query)\n",
    "    | answer_chain\n",
    ")\n",
    "\n",
    "# Test with a question\n",
    "response = chain.invoke({\"question\": \"Who is the Top buyer\"})\n",
    "print(response)\n"
   ]
  },
  {
   "cell_type": "markdown",
   "id": "6ca1d00f",
   "metadata": {},
   "source": [
    "### **2. Agents**\n",
    "\n",
    "Agent which provides a more flexible way of interacting with SQL databases. The main advantages of using the SQL Agent are:\n",
    "\n",
    "- It can answer questions based on the databases’ schema as well as on the databases’ content (like describing a specific table).\n",
    "- It can recover from errors by running a generated query, catching the traceback and regenerating it correctly.\n",
    "- It can answer questions that require multiple dependent queries.\n",
    "- It will save tokens by only considering the schema from relevant tables.\n",
    "\n",
    "To initialize the agent, we use create_sql_agent function. This agent contains the SQLDatabaseToolkit which contains tools to:\n",
    "\n",
    "- Create and execute queries\n",
    "- Check query syntax\n",
    "- Retrieve table descriptions\n"
   ]
  },
  {
   "cell_type": "code",
   "execution_count": 24,
   "id": "fb90c1d1",
   "metadata": {},
   "outputs": [
    {
     "name": "stdout",
     "output_type": "stream",
     "text": [
      "\n",
      "\n",
      "\u001b[1m> Entering new SQL Agent Executor chain...\u001b[0m\n",
      "\u001b[32;1m\u001b[1;3m\n",
      "Invoking: `sql_db_list_tables` with `{'tool_input': ''}`\n",
      "responded:  Finally, I will construct the query to get the top 5 buyers with the most orders.\n",
      "\n",
      "\n",
      "\u001b[0m\u001b[38;5;200m\u001b[1;3mbuyer_order, current_stock\u001b[0m\u001b[32;1m\u001b[1;3m\n",
      "Invoking: `sql_db_schema` with `{'table_names': 'buyer_order'}`\n",
      "\n",
      "\n",
      "\u001b[0m\u001b[33;1m\u001b[1;3m\n",
      "CREATE TABLE buyer_order (\n",
      "\tbuyerorderno TEXT, \n",
      "\tbuyername TEXT, \n",
      "\tbuyerorderstatus TEXT, \n",
      "\tstylename TEXT, \n",
      "\tstylecode TEXT, \n",
      "\tproductgroup TEXT, \n",
      "\tcategory TEXT, \n",
      "\tsubcategory TEXT, \n",
      "\tbuyerorderqty REAL, \n",
      "\tbuyerorderdate TEXT, \n",
      "\tbuyerordervalue REAL, \n",
      "\tcurrency TEXT, \n",
      "\tbuyerdeliverydate TEXT, \n",
      "\tbuyershippedqty REAL, \n",
      "\tbuyershippedvalue REAL, \n",
      "\tbuyershippedinvoiceno TEXT, \n",
      "\tPRIMARY KEY (buyerorderno)\n",
      ")\n",
      "\n",
      "/*\n",
      "3 rows from buyer_order table:\n",
      "buyerorderno\tbuyername\tbuyerorderstatus\tstylename\tstylecode\tproductgroup\tcategory\tsubcategory\tbuyerorderqty\tbuyerorderdate\tbuyerordervalue\tcurrency\tbuyerdeliverydate\tbuyershippedqty\tbuyershippedvalue\tbuyershippedinvoiceno\n",
      "WFXCOMPANY/OC217.1\tshikha buyer\tCancelled\tWFX SAMPLE THREAD_2200005_2200005\tSEW-THREAD-WFXSAMPLETHREAD\tSEWING TRIMS\tTrims\tTHREAD\t500.0\t2022-01-04 00:00:00\t1000000.0\tINR\t2022-01-30\tNone\tNone\tNone\n",
      "116180.1\tAshhar Buyer\tConfirmed\tWFX SAMPLE STYLE_2200006\tJAYDEE10001\tWOVEN\tApparel\tJEANS\t100.0\t2021-11-19 00:00:00\t10000.0\tINR\t2021-11-19\tNone\tNone\tNone\n",
      "116181.1\tAshhar Buyer\tConfirmed\tWFX SAMPLE STYLE_2200006\tJAYDEE10001\tWOVEN\tApparel\tJEANS\t100.0\t2021-11-19 00:00:00\t1000.0\tINR\t2021-11-19\tNone\tNone\tNone\n",
      "*/\u001b[0m\u001b[32;1m\u001b[1;3m\n",
      "Invoking: `sql_db_query_checker` with `{'query': 'SELECT buyername, COUNT(buyerorderno) AS total_orders FROM buyer_order GROUP BY buyername ORDER BY total_orders DESC LIMIT 5'}`\n",
      "\n",
      "\n",
      "\u001b[0m\u001b[36;1m\u001b[1;3mSELECT buyername, COUNT(buyerorderno) AS total_orders FROM buyer_order GROUP BY buyername ORDER BY total_orders DESC LIMIT 5\u001b[0m\u001b[32;1m\u001b[1;3m\n",
      "Invoking: `sql_db_query` with `{'query': 'SELECT buyername, COUNT(buyerorderno) AS total_orders FROM buyer_order GROUP BY buyername ORDER BY total_orders DESC LIMIT 5'}`\n",
      "\n",
      "\n",
      "\u001b[0m\u001b[36;1m\u001b[1;3m[('MaX TP Buyer', 12850), ('ANZcompanyLTD', 3180), ('ASMARA DELHI Lands’ End, Inc', 1824), ('Manjeet', 1638), ('BANANA REPUBLIC', 1416)]\u001b[0m\u001b[32;1m\u001b[1;3mThe top 5 buyers with the most orders are: MaX TP Buyer (12850 orders), ANZcompanyLTD (3180 orders), ASMARA DELHI Lands’ End, Inc (1824 orders), Manjeet (1638 orders), and BANANA REPUBLIC (1416 orders).\u001b[0m\n",
      "\n",
      "\u001b[1m> Finished chain.\u001b[0m\n",
      "{'input': 'Show top 5 buyers with most orders', 'output': 'The top 5 buyers with the most orders are: MaX TP Buyer (12850 orders), ANZcompanyLTD (3180 orders), ASMARA DELHI Lands’ End, Inc (1824 orders), Manjeet (1638 orders), and BANANA REPUBLIC (1416 orders).'}\n"
     ]
    }
   ],
   "source": [
    "from langchain_community.agent_toolkits import create_sql_agent\n",
    "\n",
    "safe_agent_system_prompt = \"\"\"\n",
    "You are a helpful SQL assistant.\n",
    "You are connected to a read-only SQLite database.\n",
    "You must only generate SELECT queries.\n",
    "Never use INSERT, UPDATE, DELETE, DROP, or ALTER.\n",
    "\"\"\"\n",
    "\n",
    "agent_executor = create_sql_agent(\n",
    "    llm=llm,\n",
    "    db=db,\n",
    "    agent_type=\"openai-tools\",\n",
    "    verbose=True,\n",
    "    agent_executor_kwargs={\"system_message\": safe_agent_system_prompt}\n",
    ")\n",
    "\n",
    "# Test the agent\n",
    "response = agent_executor.invoke({\"input\": \"Show top 5 buyers with most orders\"})\n",
    "print(response)\n"
   ]
  }
 ],
 "metadata": {
  "kernelspec": {
   "display_name": "text-to-sql",
   "language": "python",
   "name": "python3"
  },
  "language_info": {
   "codemirror_mode": {
    "name": "ipython",
    "version": 3
   },
   "file_extension": ".py",
   "mimetype": "text/x-python",
   "name": "python",
   "nbconvert_exporter": "python",
   "pygments_lexer": "ipython3",
   "version": "3.10.18"
  }
 },
 "nbformat": 4,
 "nbformat_minor": 5
}
